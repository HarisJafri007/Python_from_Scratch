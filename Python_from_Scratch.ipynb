{
 "cells": [
  {
   "cell_type": "markdown",
   "metadata": {},
   "source": [
    "**Why Python?**\n",
    "\n",
    "Python is a Dynamic Language. If you know about C or C++ then you must have known that these programming langauges require coder to declare a variable along with its type before using it. For Example if you declare a varible as integer type variable then through out the life cycle of that C program, coder can only store integer value inside that variable. But that is not the case with Python, in python a coder do not need to declare variable before using it. Also the literal stored inside a variable can be changed, even if it means changing the literal type."
   ]
  },
  {
   "cell_type": "code",
   "execution_count": 1,
   "metadata": {},
   "outputs": [
    {
     "name": "stdout",
     "output_type": "stream",
     "text": [
      "First Value: 10\n",
      "Second Value: alpha\n"
     ]
    }
   ],
   "source": [
    "i = 10 #storing an Integer inside variable i\n",
    "print('First Value:',i) #printing the variable\n",
    "i = 'alpha' #storing string 'alpha' inside variable i\n",
    "print('Second Value:',i) #printing the variable again"
   ]
  },
  {
   "cell_type": "markdown",
   "metadata": {},
   "source": [
    "As you can see above, the interpretor first assigns variable 'i' to the literal of type integer 10 and then prints the variable. But then again it is very easy to assign variable i to a literal of type string 'alpha' and then print it. The Reassignment property of Python is a great one and thus Python is called a Dynamically Typed Language.\n",
    "\n",
    "Python also has a user friendly syntax. To see what we mean, check the code below:"
   ]
  },
  {
   "cell_type": "code",
   "execution_count": 2,
   "metadata": {},
   "outputs": [
    {
     "name": "stdout",
     "output_type": "stream",
     "text": [
      "x is greater than 9\n"
     ]
    }
   ],
   "source": [
    "x = 10\n",
    "if x>9:\n",
    "    print('x is greater than 9')"
   ]
  },
  {
   "cell_type": "markdown",
   "metadata": {},
   "source": [
    "If you see the above code, you shall realize what it means even if this means you do not know any thing about coding. This user friendly syntax increase Developer's productivity.\n",
    "\n",
    "Python can be used in Machine Learning, Graphical User Interface, Image Processing, Scripting and Web Development etc.\n",
    "\n",
    "Google uses Python in its web search system, Youtube is almost written in Python, Dropbox Storage Service mainly uses Python, Raspberry PI Embedded Board system officially promotes Python as its official language.\n",
    "\n",
    "Also Intel, Ciso, HP and IBM extensively uses Python for testing.\n",
    "\n",
    "One of the drawbacks of Python is that since its a interpreted langauge thus its execution speed is slow. Python can not directly communicate with Machine thus interpretor requires time to translate the language from Source Code to Machine Code."
   ]
  },
  {
   "cell_type": "markdown",
   "metadata": {},
   "source": [
    "**Python Block Structures**\n",
    "\n",
    "Python uses indentation to form a group. Indentation means leaving a space from left side to write side. Indentation not only is a requirement of Python Syntax but it also beautifies the code (ask anyone who has coded in C or C++). Thank the Almighty and see the cell below to understand the indentation and how it helps in making code understandable."
   ]
  },
  {
   "cell_type": "code",
   "execution_count": 3,
   "metadata": {},
   "outputs": [
    {
     "name": "stdout",
     "output_type": "stream",
     "text": [
      "Group 1\n",
      "Group 2\n",
      "Group 2\n",
      "Group 1\n"
     ]
    }
   ],
   "source": [
    "print('Group 1')\n",
    "if True:\n",
    "    print('Group 2')\n",
    "    print('Group 2')\n",
    "print('Group 1')"
   ]
  },
  {
   "cell_type": "markdown",
   "metadata": {},
   "source": [
    "**Comments in Python**\n",
    "\n",
    "Suppose you are writing a program for a Company and you had to leave mid way due to some family emergency not to come back for next 15 days. Company appoints anothers developer to continue working with your code and when he opens up your file, it is plain simple code. It will be very difficult for the new person to understand how your code is designed and how it operates. To solve this problem, developer must deploy comments in his program. It is done by using #. See below for example:"
   ]
  },
  {
   "cell_type": "code",
   "execution_count": 12,
   "metadata": {},
   "outputs": [
    {
     "name": "stdout",
     "output_type": "stream",
     "text": [
      "Number you inserted: -3\n",
      "Number you received: 3\n"
     ]
    }
   ],
   "source": [
    "# Program Name: Find the Absolute Value\n",
    "# Author: Haris Jafri\n",
    "# Code starts below\n",
    "number = int(input()) #assigning variable 'number' to literal -3\n",
    "if number<0: #checking if number is less than 0\n",
    "    result_number = (-1)*(number) #converting negative number into a positive number by multiplying it with minus one\n",
    "print ('Number you inserted:',number) #printing the number\n",
    "print ('Number you received:',result_number)"
   ]
  }
 ],
 "metadata": {
  "kernelspec": {
   "display_name": "Python 3",
   "language": "python",
   "name": "python3"
  },
  "language_info": {
   "codemirror_mode": {
    "name": "ipython",
    "version": 3
   },
   "file_extension": ".py",
   "mimetype": "text/x-python",
   "name": "python",
   "nbconvert_exporter": "python",
   "pygments_lexer": "ipython3",
   "version": "3.11.4"
  },
  "orig_nbformat": 4
 },
 "nbformat": 4,
 "nbformat_minor": 2
}
